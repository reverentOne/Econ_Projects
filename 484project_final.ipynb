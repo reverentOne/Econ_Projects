{
  "nbformat": 4,
  "nbformat_minor": 0,
  "metadata": {
    "colab": {
      "provenance": [],
      "include_colab_link": true
    },
    "kernelspec": {
      "name": "python3",
      "display_name": "Python 3"
    },
    "language_info": {
      "name": "python"
    }
  },
  "cells": [
    {
      "cell_type": "markdown",
      "metadata": {
        "id": "view-in-github",
        "colab_type": "text"
      },
      "source": [
        "<a href=\"https://colab.research.google.com/github/reverentOne/Econ_Projects/blob/main/484project_final.ipynb\" target=\"_parent\"><img src=\"https://colab.research.google.com/assets/colab-badge.svg\" alt=\"Open In Colab\"/></a>"
      ]
    },
    {
      "cell_type": "markdown",
      "source": [
        "#Import"
      ],
      "metadata": {
        "id": "VO4ZxIAgp6jb"
      }
    },
    {
      "cell_type": "markdown",
      "source": [
        "# TODO: Need more comments on code\n",
        "# Out of sample prediction accuracy\n",
        "# Graph results in some manner (Maybe ROC curve or logit with education?)"
      ],
      "metadata": {
        "id": "wknslTpEi6dr"
      }
    },
    {
      "cell_type": "code",
      "execution_count": null,
      "metadata": {
        "id": "16u-efubwnn1",
        "colab": {
          "base_uri": "https://localhost:8080/"
        },
        "outputId": "81b0836e-67d7-45be-c59f-da56ac2883c8"
      },
      "outputs": [
        {
          "output_type": "stream",
          "name": "stdout",
          "text": [
            "Mounted at /content/gdrive\n",
            "[Errno 2] No such file or directory: '/content/gdrive/Shared with me/Team_Narwhal-Econ_484_project/Data'\n",
            "/content\n",
            "/content/gdrive/My Drive/Econ 484/Team_Narwhal-Econ_484_project/Data\n"
          ]
        }
      ],
      "source": [
        "%matplotlib inline\n",
        "from google.colab import drive\n",
        "drive.mount('/content/gdrive')\n",
        "%cd '/content/gdrive/Shared with me/Team_Narwhal-Econ_484_project/Data'\n",
        "%cd '/content/gdrive/My Drive/Econ 484/Team_Narwhal-Econ_484_project/Data'"
      ]
    },
    {
      "cell_type": "code",
      "source": [
        "import pandas as pd\n",
        "import numpy as np\n",
        "from sklearn.linear_model import LinearRegression, LassoCV, LogisticRegression\n",
        "from sklearn.model_selection import KFold\n",
        "from sklearn.preprocessing import StandardScaler\n",
        "import itertools\n",
        "import matplotlib.pyplot as plt\n",
        "import seaborn as sns\n",
        "import statsmodels.api as sm"
      ],
      "metadata": {
        "id": "lXAW2VuuAmcB"
      },
      "execution_count": null,
      "outputs": []
    },
    {
      "cell_type": "code",
      "source": [
        "#read in data\n",
        "df1=pd.read_csv('/content/gdrive/My Drive/Econ 484/Project/train_clean.csv', sep=',')\n",
        "test_df=pd.read_csv('/content/gdrive/My Drive/Econ 484/Project/test_clean.csv', sep=',')"
      ],
      "metadata": {
        "id": "o7cSl0stKRZj"
      },
      "execution_count": null,
      "outputs": []
    },
    {
      "cell_type": "markdown",
      "source": [
        "#Define Variables"
      ],
      "metadata": {
        "id": "nqvfXE-ZpUdA"
      }
    },
    {
      "cell_type": "code",
      "source": [
        "y = df1['term_deposit_yes']\n",
        "treatments = df1[['education_primary', 'education_secondary', 'education_tertiary']].astype('float64')\n",
        "# Construct controls with exclusions\n",
        "all_columns = df1.columns.tolist()\n",
        "exclude_list = ['term_deposit_yes', 'education_primary', 'education_secondary', 'education_tertiary']\n",
        "controls_columns = [col for col in all_columns if col not in exclude_list and col != 'Unnamed: 0']\n",
        "controls = df1[controls_columns].copy()\n",
        "\n",
        "controls\n",
        "treatments"
      ],
      "metadata": {
        "id": "Fl-3POYJpWtZ",
        "colab": {
          "base_uri": "https://localhost:8080/",
          "height": 424
        },
        "outputId": "be93c086-8874-48bf-9e41-eac763f70a82"
      },
      "execution_count": null,
      "outputs": [
        {
          "output_type": "execute_result",
          "data": {
            "text/plain": [
              "       education_primary  education_secondary  education_tertiary\n",
              "0                    0.0                  0.0                 1.0\n",
              "1                    0.0                  1.0                 0.0\n",
              "2                    0.0                  1.0                 0.0\n",
              "3                    0.0                  0.0                 1.0\n",
              "4                    0.0                  0.0                 1.0\n",
              "...                  ...                  ...                 ...\n",
              "35415                0.0                  0.0                 1.0\n",
              "35416                0.0                  1.0                 0.0\n",
              "35417                0.0                  0.0                 1.0\n",
              "35418                1.0                  0.0                 0.0\n",
              "35419                0.0                  1.0                 0.0\n",
              "\n",
              "[35420 rows x 3 columns]"
            ],
            "text/html": [
              "\n",
              "  <div id=\"df-554afca8-999d-4141-885d-0c400ed4b255\" class=\"colab-df-container\">\n",
              "    <div>\n",
              "<style scoped>\n",
              "    .dataframe tbody tr th:only-of-type {\n",
              "        vertical-align: middle;\n",
              "    }\n",
              "\n",
              "    .dataframe tbody tr th {\n",
              "        vertical-align: top;\n",
              "    }\n",
              "\n",
              "    .dataframe thead th {\n",
              "        text-align: right;\n",
              "    }\n",
              "</style>\n",
              "<table border=\"1\" class=\"dataframe\">\n",
              "  <thead>\n",
              "    <tr style=\"text-align: right;\">\n",
              "      <th></th>\n",
              "      <th>education_primary</th>\n",
              "      <th>education_secondary</th>\n",
              "      <th>education_tertiary</th>\n",
              "    </tr>\n",
              "  </thead>\n",
              "  <tbody>\n",
              "    <tr>\n",
              "      <th>0</th>\n",
              "      <td>0.0</td>\n",
              "      <td>0.0</td>\n",
              "      <td>1.0</td>\n",
              "    </tr>\n",
              "    <tr>\n",
              "      <th>1</th>\n",
              "      <td>0.0</td>\n",
              "      <td>1.0</td>\n",
              "      <td>0.0</td>\n",
              "    </tr>\n",
              "    <tr>\n",
              "      <th>2</th>\n",
              "      <td>0.0</td>\n",
              "      <td>1.0</td>\n",
              "      <td>0.0</td>\n",
              "    </tr>\n",
              "    <tr>\n",
              "      <th>3</th>\n",
              "      <td>0.0</td>\n",
              "      <td>0.0</td>\n",
              "      <td>1.0</td>\n",
              "    </tr>\n",
              "    <tr>\n",
              "      <th>4</th>\n",
              "      <td>0.0</td>\n",
              "      <td>0.0</td>\n",
              "      <td>1.0</td>\n",
              "    </tr>\n",
              "    <tr>\n",
              "      <th>...</th>\n",
              "      <td>...</td>\n",
              "      <td>...</td>\n",
              "      <td>...</td>\n",
              "    </tr>\n",
              "    <tr>\n",
              "      <th>35415</th>\n",
              "      <td>0.0</td>\n",
              "      <td>0.0</td>\n",
              "      <td>1.0</td>\n",
              "    </tr>\n",
              "    <tr>\n",
              "      <th>35416</th>\n",
              "      <td>0.0</td>\n",
              "      <td>1.0</td>\n",
              "      <td>0.0</td>\n",
              "    </tr>\n",
              "    <tr>\n",
              "      <th>35417</th>\n",
              "      <td>0.0</td>\n",
              "      <td>0.0</td>\n",
              "      <td>1.0</td>\n",
              "    </tr>\n",
              "    <tr>\n",
              "      <th>35418</th>\n",
              "      <td>1.0</td>\n",
              "      <td>0.0</td>\n",
              "      <td>0.0</td>\n",
              "    </tr>\n",
              "    <tr>\n",
              "      <th>35419</th>\n",
              "      <td>0.0</td>\n",
              "      <td>1.0</td>\n",
              "      <td>0.0</td>\n",
              "    </tr>\n",
              "  </tbody>\n",
              "</table>\n",
              "<p>35420 rows × 3 columns</p>\n",
              "</div>\n",
              "    <div class=\"colab-df-buttons\">\n",
              "\n",
              "  <div class=\"colab-df-container\">\n",
              "    <button class=\"colab-df-convert\" onclick=\"convertToInteractive('df-554afca8-999d-4141-885d-0c400ed4b255')\"\n",
              "            title=\"Convert this dataframe to an interactive table.\"\n",
              "            style=\"display:none;\">\n",
              "\n",
              "  <svg xmlns=\"http://www.w3.org/2000/svg\" height=\"24px\" viewBox=\"0 -960 960 960\">\n",
              "    <path d=\"M120-120v-720h720v720H120Zm60-500h600v-160H180v160Zm220 220h160v-160H400v160Zm0 220h160v-160H400v160ZM180-400h160v-160H180v160Zm440 0h160v-160H620v160ZM180-180h160v-160H180v160Zm440 0h160v-160H620v160Z\"/>\n",
              "  </svg>\n",
              "    </button>\n",
              "\n",
              "  <style>\n",
              "    .colab-df-container {\n",
              "      display:flex;\n",
              "      gap: 12px;\n",
              "    }\n",
              "\n",
              "    .colab-df-convert {\n",
              "      background-color: #E8F0FE;\n",
              "      border: none;\n",
              "      border-radius: 50%;\n",
              "      cursor: pointer;\n",
              "      display: none;\n",
              "      fill: #1967D2;\n",
              "      height: 32px;\n",
              "      padding: 0 0 0 0;\n",
              "      width: 32px;\n",
              "    }\n",
              "\n",
              "    .colab-df-convert:hover {\n",
              "      background-color: #E2EBFA;\n",
              "      box-shadow: 0px 1px 2px rgba(60, 64, 67, 0.3), 0px 1px 3px 1px rgba(60, 64, 67, 0.15);\n",
              "      fill: #174EA6;\n",
              "    }\n",
              "\n",
              "    .colab-df-buttons div {\n",
              "      margin-bottom: 4px;\n",
              "    }\n",
              "\n",
              "    [theme=dark] .colab-df-convert {\n",
              "      background-color: #3B4455;\n",
              "      fill: #D2E3FC;\n",
              "    }\n",
              "\n",
              "    [theme=dark] .colab-df-convert:hover {\n",
              "      background-color: #434B5C;\n",
              "      box-shadow: 0px 1px 3px 1px rgba(0, 0, 0, 0.15);\n",
              "      filter: drop-shadow(0px 1px 2px rgba(0, 0, 0, 0.3));\n",
              "      fill: #FFFFFF;\n",
              "    }\n",
              "  </style>\n",
              "\n",
              "    <script>\n",
              "      const buttonEl =\n",
              "        document.querySelector('#df-554afca8-999d-4141-885d-0c400ed4b255 button.colab-df-convert');\n",
              "      buttonEl.style.display =\n",
              "        google.colab.kernel.accessAllowed ? 'block' : 'none';\n",
              "\n",
              "      async function convertToInteractive(key) {\n",
              "        const element = document.querySelector('#df-554afca8-999d-4141-885d-0c400ed4b255');\n",
              "        const dataTable =\n",
              "          await google.colab.kernel.invokeFunction('convertToInteractive',\n",
              "                                                    [key], {});\n",
              "        if (!dataTable) return;\n",
              "\n",
              "        const docLinkHtml = 'Like what you see? Visit the ' +\n",
              "          '<a target=\"_blank\" href=https://colab.research.google.com/notebooks/data_table.ipynb>data table notebook</a>'\n",
              "          + ' to learn more about interactive tables.';\n",
              "        element.innerHTML = '';\n",
              "        dataTable['output_type'] = 'display_data';\n",
              "        await google.colab.output.renderOutput(dataTable, element);\n",
              "        const docLink = document.createElement('div');\n",
              "        docLink.innerHTML = docLinkHtml;\n",
              "        element.appendChild(docLink);\n",
              "      }\n",
              "    </script>\n",
              "  </div>\n",
              "\n",
              "\n",
              "<div id=\"df-f07ab972-ad66-4943-bbdc-b25ba8d38577\">\n",
              "  <button class=\"colab-df-quickchart\" onclick=\"quickchart('df-f07ab972-ad66-4943-bbdc-b25ba8d38577')\"\n",
              "            title=\"Suggest charts\"\n",
              "            style=\"display:none;\">\n",
              "\n",
              "<svg xmlns=\"http://www.w3.org/2000/svg\" height=\"24px\"viewBox=\"0 0 24 24\"\n",
              "     width=\"24px\">\n",
              "    <g>\n",
              "        <path d=\"M19 3H5c-1.1 0-2 .9-2 2v14c0 1.1.9 2 2 2h14c1.1 0 2-.9 2-2V5c0-1.1-.9-2-2-2zM9 17H7v-7h2v7zm4 0h-2V7h2v10zm4 0h-2v-4h2v4z\"/>\n",
              "    </g>\n",
              "</svg>\n",
              "  </button>\n",
              "\n",
              "<style>\n",
              "  .colab-df-quickchart {\n",
              "      --bg-color: #E8F0FE;\n",
              "      --fill-color: #1967D2;\n",
              "      --hover-bg-color: #E2EBFA;\n",
              "      --hover-fill-color: #174EA6;\n",
              "      --disabled-fill-color: #AAA;\n",
              "      --disabled-bg-color: #DDD;\n",
              "  }\n",
              "\n",
              "  [theme=dark] .colab-df-quickchart {\n",
              "      --bg-color: #3B4455;\n",
              "      --fill-color: #D2E3FC;\n",
              "      --hover-bg-color: #434B5C;\n",
              "      --hover-fill-color: #FFFFFF;\n",
              "      --disabled-bg-color: #3B4455;\n",
              "      --disabled-fill-color: #666;\n",
              "  }\n",
              "\n",
              "  .colab-df-quickchart {\n",
              "    background-color: var(--bg-color);\n",
              "    border: none;\n",
              "    border-radius: 50%;\n",
              "    cursor: pointer;\n",
              "    display: none;\n",
              "    fill: var(--fill-color);\n",
              "    height: 32px;\n",
              "    padding: 0;\n",
              "    width: 32px;\n",
              "  }\n",
              "\n",
              "  .colab-df-quickchart:hover {\n",
              "    background-color: var(--hover-bg-color);\n",
              "    box-shadow: 0 1px 2px rgba(60, 64, 67, 0.3), 0 1px 3px 1px rgba(60, 64, 67, 0.15);\n",
              "    fill: var(--button-hover-fill-color);\n",
              "  }\n",
              "\n",
              "  .colab-df-quickchart-complete:disabled,\n",
              "  .colab-df-quickchart-complete:disabled:hover {\n",
              "    background-color: var(--disabled-bg-color);\n",
              "    fill: var(--disabled-fill-color);\n",
              "    box-shadow: none;\n",
              "  }\n",
              "\n",
              "  .colab-df-spinner {\n",
              "    border: 2px solid var(--fill-color);\n",
              "    border-color: transparent;\n",
              "    border-bottom-color: var(--fill-color);\n",
              "    animation:\n",
              "      spin 1s steps(1) infinite;\n",
              "  }\n",
              "\n",
              "  @keyframes spin {\n",
              "    0% {\n",
              "      border-color: transparent;\n",
              "      border-bottom-color: var(--fill-color);\n",
              "      border-left-color: var(--fill-color);\n",
              "    }\n",
              "    20% {\n",
              "      border-color: transparent;\n",
              "      border-left-color: var(--fill-color);\n",
              "      border-top-color: var(--fill-color);\n",
              "    }\n",
              "    30% {\n",
              "      border-color: transparent;\n",
              "      border-left-color: var(--fill-color);\n",
              "      border-top-color: var(--fill-color);\n",
              "      border-right-color: var(--fill-color);\n",
              "    }\n",
              "    40% {\n",
              "      border-color: transparent;\n",
              "      border-right-color: var(--fill-color);\n",
              "      border-top-color: var(--fill-color);\n",
              "    }\n",
              "    60% {\n",
              "      border-color: transparent;\n",
              "      border-right-color: var(--fill-color);\n",
              "    }\n",
              "    80% {\n",
              "      border-color: transparent;\n",
              "      border-right-color: var(--fill-color);\n",
              "      border-bottom-color: var(--fill-color);\n",
              "    }\n",
              "    90% {\n",
              "      border-color: transparent;\n",
              "      border-bottom-color: var(--fill-color);\n",
              "    }\n",
              "  }\n",
              "</style>\n",
              "\n",
              "  <script>\n",
              "    async function quickchart(key) {\n",
              "      const quickchartButtonEl =\n",
              "        document.querySelector('#' + key + ' button');\n",
              "      quickchartButtonEl.disabled = true;  // To prevent multiple clicks.\n",
              "      quickchartButtonEl.classList.add('colab-df-spinner');\n",
              "      try {\n",
              "        const charts = await google.colab.kernel.invokeFunction(\n",
              "            'suggestCharts', [key], {});\n",
              "      } catch (error) {\n",
              "        console.error('Error during call to suggestCharts:', error);\n",
              "      }\n",
              "      quickchartButtonEl.classList.remove('colab-df-spinner');\n",
              "      quickchartButtonEl.classList.add('colab-df-quickchart-complete');\n",
              "    }\n",
              "    (() => {\n",
              "      let quickchartButtonEl =\n",
              "        document.querySelector('#df-f07ab972-ad66-4943-bbdc-b25ba8d38577 button');\n",
              "      quickchartButtonEl.style.display =\n",
              "        google.colab.kernel.accessAllowed ? 'block' : 'none';\n",
              "    })();\n",
              "  </script>\n",
              "</div>\n",
              "\n",
              "  <div id=\"id_512fe547-30e9-4e35-9f21-63d25516ac1d\">\n",
              "    <style>\n",
              "      .colab-df-generate {\n",
              "        background-color: #E8F0FE;\n",
              "        border: none;\n",
              "        border-radius: 50%;\n",
              "        cursor: pointer;\n",
              "        display: none;\n",
              "        fill: #1967D2;\n",
              "        height: 32px;\n",
              "        padding: 0 0 0 0;\n",
              "        width: 32px;\n",
              "      }\n",
              "\n",
              "      .colab-df-generate:hover {\n",
              "        background-color: #E2EBFA;\n",
              "        box-shadow: 0px 1px 2px rgba(60, 64, 67, 0.3), 0px 1px 3px 1px rgba(60, 64, 67, 0.15);\n",
              "        fill: #174EA6;\n",
              "      }\n",
              "\n",
              "      [theme=dark] .colab-df-generate {\n",
              "        background-color: #3B4455;\n",
              "        fill: #D2E3FC;\n",
              "      }\n",
              "\n",
              "      [theme=dark] .colab-df-generate:hover {\n",
              "        background-color: #434B5C;\n",
              "        box-shadow: 0px 1px 3px 1px rgba(0, 0, 0, 0.15);\n",
              "        filter: drop-shadow(0px 1px 2px rgba(0, 0, 0, 0.3));\n",
              "        fill: #FFFFFF;\n",
              "      }\n",
              "    </style>\n",
              "    <button class=\"colab-df-generate\" onclick=\"generateWithVariable('treatments')\"\n",
              "            title=\"Generate code using this dataframe.\"\n",
              "            style=\"display:none;\">\n",
              "\n",
              "  <svg xmlns=\"http://www.w3.org/2000/svg\" height=\"24px\"viewBox=\"0 0 24 24\"\n",
              "       width=\"24px\">\n",
              "    <path d=\"M7,19H8.4L18.45,9,17,7.55,7,17.6ZM5,21V16.75L18.45,3.32a2,2,0,0,1,2.83,0l1.4,1.43a1.91,1.91,0,0,1,.58,1.4,1.91,1.91,0,0,1-.58,1.4L9.25,21ZM18.45,9,17,7.55Zm-12,3A5.31,5.31,0,0,0,4.9,8.1,5.31,5.31,0,0,0,1,6.5,5.31,5.31,0,0,0,4.9,4.9,5.31,5.31,0,0,0,6.5,1,5.31,5.31,0,0,0,8.1,4.9,5.31,5.31,0,0,0,12,6.5,5.46,5.46,0,0,0,6.5,12Z\"/>\n",
              "  </svg>\n",
              "    </button>\n",
              "    <script>\n",
              "      (() => {\n",
              "      const buttonEl =\n",
              "        document.querySelector('#id_512fe547-30e9-4e35-9f21-63d25516ac1d button.colab-df-generate');\n",
              "      buttonEl.style.display =\n",
              "        google.colab.kernel.accessAllowed ? 'block' : 'none';\n",
              "\n",
              "      buttonEl.onclick = () => {\n",
              "        google.colab.notebook.generateWithVariable('treatments');\n",
              "      }\n",
              "      })();\n",
              "    </script>\n",
              "  </div>\n",
              "\n",
              "    </div>\n",
              "  </div>\n"
            ],
            "application/vnd.google.colaboratory.intrinsic+json": {
              "type": "dataframe",
              "variable_name": "treatments",
              "summary": "{\n  \"name\": \"treatments\",\n  \"rows\": 35420,\n  \"fields\": [\n    {\n      \"column\": \"education_primary\",\n      \"properties\": {\n        \"dtype\": \"number\",\n        \"std\": 0.37084654606849343,\n        \"min\": 0.0,\n        \"max\": 1.0,\n        \"num_unique_values\": 2,\n        \"samples\": [\n          1.0,\n          0.0\n        ],\n        \"semantic_type\": \"\",\n        \"description\": \"\"\n      }\n    },\n    {\n      \"column\": \"education_secondary\",\n      \"properties\": {\n        \"dtype\": \"number\",\n        \"std\": 0.49878390235408554,\n        \"min\": 0.0,\n        \"max\": 1.0,\n        \"num_unique_values\": 2,\n        \"samples\": [\n          1.0,\n          0.0\n        ],\n        \"semantic_type\": \"\",\n        \"description\": \"\"\n      }\n    },\n    {\n      \"column\": \"education_tertiary\",\n      \"properties\": {\n        \"dtype\": \"number\",\n        \"std\": 0.45844863428401283,\n        \"min\": 0.0,\n        \"max\": 1.0,\n        \"num_unique_values\": 2,\n        \"samples\": [\n          0.0,\n          1.0\n        ],\n        \"semantic_type\": \"\",\n        \"description\": \"\"\n      }\n    }\n  ]\n}"
            }
          },
          "metadata": {},
          "execution_count": 4
        }
      ]
    },
    {
      "cell_type": "markdown",
      "source": [
        "#Visualize Control Variables"
      ],
      "metadata": {
        "id": "MaT6bIZB-qYK"
      }
    },
    {
      "cell_type": "code",
      "source": [
        "interaction_correlations = pd.concat([controls , y], axis=1).corr()['term_deposit_yes'] #can replace controls with Xunion after lasso\n",
        "\n",
        "# Create Heatmap\n",
        "plt.figure(figsize=(12, 8))\n",
        "sns.heatmap(interaction_correlations.to_frame(), cmap='coolwarm', vmin=-.1, vmax=.1, annot=True)\n",
        "plt.title('Interaction Correlations with Term Deposit Ownership')\n",
        "plt.show()"
      ],
      "metadata": {
        "colab": {
          "base_uri": "https://localhost:8080/",
          "height": 699
        },
        "id": "qbKA-rvuOWQO",
        "outputId": "90130f25-863f-462c-9d25-4f7621cfc090"
      },
      "execution_count": null,
      "outputs": [
        {
          "output_type": "display_data",
          "data": {
            "text/plain": [
              "<Figure size 1200x800 with 2 Axes>"
            ],
            "image/png": "[encoded data removed]"
          },
          "metadata": {}
        }
      ]
    },
    {
      "cell_type": "markdown",
      "source": [
        "#Simple regression"
      ],
      "metadata": {
        "id": "0dAqVgJXnhiX"
      }
    },
    {
      "cell_type": "code",
      "source": [
        "for col in treatments.columns:\n",
        "    logm = LogisticRegression().fit(treatments[[col]], y)\n",
        "    print(\"Simple Logit regression ({}): {:.3f}\".format(col, logm.coef_[0][0]))"
      ],
      "metadata": {
        "id": "kjpyaz2GnlbN",
        "colab": {
          "base_uri": "https://localhost:8080/"
        },
        "outputId": "0da85dd3-c9aa-4e02-93c3-17b85ffb1e22"
      },
      "execution_count": null,
      "outputs": [
        {
          "output_type": "stream",
          "name": "stdout",
          "text": [
            "Simple Logit regression (education_primary): -0.306\n",
            "Simple Logit regression (education_secondary): -0.180\n",
            "Simple Logit regression (education_tertiary): 0.376\n"
          ]
        }
      ]
    },
    {
      "cell_type": "markdown",
      "source": [
        "#Add Squared Power Interactions"
      ],
      "metadata": {
        "id": "zOV2qCG6Im8F"
      }
    },
    {
      "cell_type": "code",
      "source": [
        "# Justification: The positive effect of higher education might plateau.\n",
        "controls['education_secondary_tertiary_interaction'] = treatments['education_secondary'] * treatments['education_tertiary']\n",
        "\n",
        "# Justification: There could be specific life phases where financial decision patterns change more drastically (Retirement maybe?)\n",
        "controls['age_squared'] = controls['age'] ** 2\n",
        "\n",
        "# Justification: Wealth accumulation source might influence risk behavior.\n",
        "controls['balance_entrepreneur_interaction'] = controls['balance'] * controls['job_entrepreneur']"
      ],
      "metadata": {
        "id": "GBW2xNcIImWP"
      },
      "execution_count": null,
      "outputs": []
    },
    {
      "cell_type": "markdown",
      "source": [
        "# Create control variable interactions (with pre-allocation because it's python)"
      ],
      "metadata": {
        "id": "MDiXKGwYRSGp"
      }
    },
    {
      "cell_type": "code",
      "source": [
        "controls_columns = controls.columns\n",
        "control_pairs = list(itertools.combinations(controls_columns, 2))\n",
        "interaction_results = {}\n",
        "# Calculate interactions and fill dictionary\n",
        "for feature_1, feature_2 in control_pairs:\n",
        "    interaction_column = controls[feature_1] * controls[feature_2]\n",
        "    interaction_column.fillna(0, inplace=True)\n",
        "    interaction_results[f\"{feature_1}_{feature_2}_interaction\"] = interaction_column\n",
        "interaction_df = pd.DataFrame(interaction_results)\n",
        "controls = pd.concat([controls, interaction_df], axis=1) # Join interaction terms to the controls DataFrame\n",
        "controls = controls.drop(controls_columns, axis=1) #Drop original categorical columns\n",
        "\n",
        "#delete interaction terms with high number of zeros\n",
        "# print(f\"Control variables before .95 non zero cutoff: {controls.shape}\")\n",
        "# zero_threshold = 0.95  # Adjustable\n",
        "# zero_proportions = (controls.isnull().sum() + (controls == 0).sum()) / len(controls)\n",
        "# columns_to_drop = zero_proportions[zero_proportions > zero_threshold].index\n",
        "# controls = controls.drop(columns=columns_to_drop)\n",
        "# print(f\"Control variables after: {controls.shape}\")"
      ],
      "metadata": {
        "id": "5wRh5y4XRRrV"
      },
      "execution_count": null,
      "outputs": []
    },
    {
      "cell_type": "markdown",
      "source": [
        "# Lasso with Cross-Validation"
      ],
      "metadata": {
        "id": "Ji1cpeyWnzJC"
      }
    },
    {
      "cell_type": "code",
      "source": [
        "scaler = StandardScaler()\n",
        "alphas_to_try = [0.01, 0.1, 0.5, 1, 5, 10, 100]\n",
        "X=controls\n",
        "Xnames=X.columns\n",
        "X_scaled = pd.DataFrame(scaler.fit_transform(X), columns=Xnames)\n",
        "lasso_cv = LassoCV(max_iter=1000,alphas=alphas_to_try).fit(X_scaled, y)\n",
        "print(f\"Alpha selected: {lasso_cv.alpha_}\")\n",
        "# Get selected features by lasso\n",
        "selected_features = Xnames[lasso_cv.coef_ != 0]\n",
        "#print(f\"Features selected by Lasso for outcome (y): {selected_features}\")\n",
        "\n",
        "# Lasso treatments separately to identify relevant controls\n",
        "for col in treatments.columns:\n",
        "    lasso_treatment_cv = LassoCV(cv=5, max_iter=1000, alphas=alphas_to_try).fit(X_scaled, treatments[col])\n",
        "    selected_controls = Xnames[lasso_treatment_cv.coef_ != 0]\n",
        "    #print(f\"Features selected by Lasso for treatment ({col}): {selected_controls}\")\n",
        "\n",
        "# Form the union of controls (with selected features)\n",
        "Xunion = X_scaled[selected_features.union(selected_controls)]\n",
        "\n",
        "print(\"Number of regressors in the menu: \",len(Xnames))\n",
        "print(\"Number of regressors selected by lasso: \",len(Xunion.columns))\n",
        "# print out accuracy on training and test test\n",
        "#print(\"Accuracy on training set: {:.3f}\".format(Xunion.score(X_train_scaled,y_train)))\n",
        "#print(\"Accuracy on test set: {:.3f}\".format(Xunion.score(X_test_scaled,y_test)))\n",
        "#results = pd.DataFrame({'feature': X.columns[Xunion.coef_!=0],'coefficient': Xunion.coef_[Xunion.coef_!=0]})\n",
        "#results"
      ],
      "metadata": {
        "id": "gmMdgtdTnyfb",
        "colab": {
          "base_uri": "https://localhost:8080/"
        },
        "outputId": "eac8e2b6-33e7-44f0-f1f5-62ea27fe197f"
      },
      "execution_count": null,
      "outputs": [
        {
          "output_type": "stream",
          "name": "stdout",
          "text": [
            "Alpha selected: 0.01\n",
            "Number of regressors in the menu:  210\n",
            "Number of regressors selected by lasso:  31\n"
          ]
        }
      ]
    },
    {
      "cell_type": "markdown",
      "source": [
        "#Check for Multicolinearity"
      ],
      "metadata": {
        "id": "4Kf5AdjUgItW"
      }
    },
    {
      "cell_type": "code",
      "source": [
        "from statsmodels.stats.outliers_influence import variance_inflation_factor\n",
        "\n",
        "def calculate_vif(X):\n",
        "    \"\"\"\n",
        "    Calculates the Variance Inflation Factor (VIF) for each feature in the dataset.\n",
        "    \"\"\"\n",
        "    vif = pd.DataFrame()\n",
        "    vif[\"variables\"] = X.columns\n",
        "    vif[\"VIF\"] = [variance_inflation_factor(X.values, i) for i in range(X.shape[1])]\n",
        "    return(vif)\n",
        "\n",
        "scaler = StandardScaler()\n",
        "Z=Xunion\n",
        "Znames=Z.columns\n",
        "Z_scaled = pd.DataFrame(scaler.fit_transform(Z), columns=Znames)\n",
        "\n",
        "print(calculate_vif(Z_scaled))"
      ],
      "metadata": {
        "id": "KWaAkeHLgH8x",
        "colab": {
          "base_uri": "https://localhost:8080/"
        },
        "outputId": "71cf633b-2547-4a93-f0c2-ea0ea4fe7e80"
      },
      "execution_count": null,
      "outputs": [
        {
          "output_type": "stream",
          "name": "stdout",
          "text": [
            "                                       variables        VIF\n",
            "0                    age_age_squared_interaction   5.269699\n",
            "1                        age_balance_interaction   2.033904\n",
            "2                    age_housing_yes_interaction   3.199965\n",
            "3                age_job_blue-collar_interaction   3.410045\n",
            "4               age_job_entrepreneur_interaction   1.301788\n",
            "5                 age_job_management_interaction   6.651604\n",
            "6              age_job_self-employed_interaction   1.611851\n",
            "7                   age_job_services_interaction   2.695140\n",
            "8                 age_job_technician_interaction   2.139296\n",
            "9                       age_loan_yes_interaction  22.960803\n",
            "10               age_marital_married_interaction  46.084539\n",
            "11                age_marital_single_interaction   3.830496\n",
            "12            balance_job_management_interaction   1.962541\n",
            "13         balance_job_self-employed_interaction   1.311665\n",
            "14            balance_job_technician_interaction   1.445022\n",
            "15            balance_marital_single_interaction   1.468572\n",
            "16       job_blue-collar_housing_yes_interaction   3.260384\n",
            "17    job_blue-collar_marital_single_interaction   1.739689\n",
            "18   job_entrepreneur_marital_single_interaction   1.185942\n",
            "19        job_management_housing_yes_interaction   2.260121\n",
            "20    job_management_marital_married_interaction   4.838874\n",
            "21     job_management_marital_single_interaction   3.160672\n",
            "22           job_retired_age_squared_interaction   2.323796\n",
            "23  job_self-employed_marital_single_interaction   1.354844\n",
            "24          job_services_housing_yes_interaction   2.595630\n",
            "25           job_student_age_squared_interaction   4.610594\n",
            "26        job_student_marital_single_interaction   4.750070\n",
            "27     job_technician_marital_single_interaction   2.034233\n",
            "28              loan_yes_age_squared_interaction  23.301532\n",
            "29       marital_married_age_squared_interaction  43.460475\n",
            "30       marital_married_housing_yes_interaction   4.181110\n"
          ]
        }
      ]
    },
    {
      "cell_type": "markdown",
      "source": [
        "# PDS Regression"
      ],
      "metadata": {
        "id": "C4wbJzprn_sj"
      }
    },
    {
      "cell_type": "code",
      "source": [
        "omitted_var = 'education_primary'\n",
        "treatments = treatments.reset_index(drop=True)\n",
        "Xunion = Xunion.reset_index(drop=True)\n",
        "rhs = pd.concat([treatments, Xunion], axis=1)\n",
        "rhs = rhs.drop(omitted_var, axis=1)\n",
        "\n",
        "# Logistic Regression\n",
        "logm = LogisticRegression().fit(rhs, y)\n",
        "print(f\"\\nRegression results with '{omitted_var}' omitted:\\n\")\n",
        "\n",
        "results = pd.DataFrame({'Coefficient': logm.coef_[0],\n",
        "                        'Odds Ratio': np.exp(logm.coef_[0])},\n",
        "                       index=rhs.columns)\n",
        "\n",
        "for index, row in results.iterrows():\n",
        "    coef, odds_ratio = row['Coefficient'], row['Odds Ratio']\n",
        "    approx_pct_change = (odds_ratio - 1) * 100\n",
        "    print(f\"- {index}:\")\n",
        "    print(f\"   Coefficient: {coef:.3f}\")\n",
        "    print(f\"   Odds Ratio: {odds_ratio:.2f}\")\n",
        "    print(f\"   Approximate % Change in Odds: {approx_pct_change:.1f}%\")"
      ],
      "metadata": {
        "id": "TjBHCwN3oLvr",
        "colab": {
          "base_uri": "https://localhost:8080/"
        },
        "outputId": "e3c12f29-9662-4e41-a9b3-b12efcbc7274"
      },
      "execution_count": null,
      "outputs": [
        {
          "output_type": "stream",
          "name": "stdout",
          "text": [
            "\n",
            "Regression results with 'education_primary' omitted:\n",
            "\n",
            "- education_secondary:\n",
            "   Coefficient: 0.242\n",
            "   Odds Ratio: 1.27\n",
            "   Approximate % Change in Odds: 27.4%\n",
            "- education_tertiary:\n",
            "   Coefficient: 0.515\n",
            "   Odds Ratio: 1.67\n",
            "   Approximate % Change in Odds: 67.3%\n",
            "- age_age_squared_interaction:\n",
            "   Coefficient: 0.125\n",
            "   Odds Ratio: 1.13\n",
            "   Approximate % Change in Odds: 13.3%\n",
            "- age_balance_interaction:\n",
            "   Coefficient: 0.018\n",
            "   Odds Ratio: 1.02\n",
            "   Approximate % Change in Odds: 1.8%\n",
            "- age_housing_yes_interaction:\n",
            "   Coefficient: -0.314\n",
            "   Odds Ratio: 0.73\n",
            "   Approximate % Change in Odds: -26.9%\n",
            "- age_job_blue-collar_interaction:\n",
            "   Coefficient: -0.118\n",
            "   Odds Ratio: 0.89\n",
            "   Approximate % Change in Odds: -11.1%\n",
            "- age_job_entrepreneur_interaction:\n",
            "   Coefficient: -0.040\n",
            "   Odds Ratio: 0.96\n",
            "   Approximate % Change in Odds: -3.9%\n",
            "- age_job_management_interaction:\n",
            "   Coefficient: -0.149\n",
            "   Odds Ratio: 0.86\n",
            "   Approximate % Change in Odds: -13.8%\n",
            "- age_job_self-employed_interaction:\n",
            "   Coefficient: -0.078\n",
            "   Odds Ratio: 0.92\n",
            "   Approximate % Change in Odds: -7.5%\n",
            "- age_job_services_interaction:\n",
            "   Coefficient: -0.072\n",
            "   Odds Ratio: 0.93\n",
            "   Approximate % Change in Odds: -6.9%\n",
            "- age_job_technician_interaction:\n",
            "   Coefficient: -0.074\n",
            "   Odds Ratio: 0.93\n",
            "   Approximate % Change in Odds: -7.2%\n",
            "- age_loan_yes_interaction:\n",
            "   Coefficient: -0.005\n",
            "   Odds Ratio: 0.99\n",
            "   Approximate % Change in Odds: -0.5%\n",
            "- age_marital_married_interaction:\n",
            "   Coefficient: -0.658\n",
            "   Odds Ratio: 0.52\n",
            "   Approximate % Change in Odds: -48.2%\n",
            "- age_marital_single_interaction:\n",
            "   Coefficient: -0.062\n",
            "   Odds Ratio: 0.94\n",
            "   Approximate % Change in Odds: -6.0%\n",
            "- balance_job_management_interaction:\n",
            "   Coefficient: 0.003\n",
            "   Odds Ratio: 1.00\n",
            "   Approximate % Change in Odds: 0.3%\n",
            "- balance_job_self-employed_interaction:\n",
            "   Coefficient: 0.012\n",
            "   Odds Ratio: 1.01\n",
            "   Approximate % Change in Odds: 1.2%\n",
            "- balance_job_technician_interaction:\n",
            "   Coefficient: 0.049\n",
            "   Odds Ratio: 1.05\n",
            "   Approximate % Change in Odds: 5.0%\n",
            "- balance_marital_single_interaction:\n",
            "   Coefficient: 0.031\n",
            "   Odds Ratio: 1.03\n",
            "   Approximate % Change in Odds: 3.1%\n",
            "- job_blue-collar_housing_yes_interaction:\n",
            "   Coefficient: 0.057\n",
            "   Odds Ratio: 1.06\n",
            "   Approximate % Change in Odds: 5.9%\n",
            "- job_blue-collar_marital_single_interaction:\n",
            "   Coefficient: 0.035\n",
            "   Odds Ratio: 1.04\n",
            "   Approximate % Change in Odds: 3.6%\n",
            "- job_entrepreneur_marital_single_interaction:\n",
            "   Coefficient: 0.001\n",
            "   Odds Ratio: 1.00\n",
            "   Approximate % Change in Odds: 0.1%\n",
            "- job_management_housing_yes_interaction:\n",
            "   Coefficient: -0.034\n",
            "   Odds Ratio: 0.97\n",
            "   Approximate % Change in Odds: -3.3%\n",
            "- job_management_marital_married_interaction:\n",
            "   Coefficient: 0.104\n",
            "   Odds Ratio: 1.11\n",
            "   Approximate % Change in Odds: 10.9%\n",
            "- job_management_marital_single_interaction:\n",
            "   Coefficient: 0.055\n",
            "   Odds Ratio: 1.06\n",
            "   Approximate % Change in Odds: 5.6%\n",
            "- job_retired_age_squared_interaction:\n",
            "   Coefficient: 0.082\n",
            "   Odds Ratio: 1.09\n",
            "   Approximate % Change in Odds: 8.5%\n",
            "- job_self-employed_marital_single_interaction:\n",
            "   Coefficient: 0.056\n",
            "   Odds Ratio: 1.06\n",
            "   Approximate % Change in Odds: 5.7%\n",
            "- job_services_housing_yes_interaction:\n",
            "   Coefficient: 0.013\n",
            "   Odds Ratio: 1.01\n",
            "   Approximate % Change in Odds: 1.3%\n",
            "- job_student_age_squared_interaction:\n",
            "   Coefficient: -0.032\n",
            "   Odds Ratio: 0.97\n",
            "   Approximate % Change in Odds: -3.2%\n",
            "- job_student_marital_single_interaction:\n",
            "   Coefficient: 0.116\n",
            "   Odds Ratio: 1.12\n",
            "   Approximate % Change in Odds: 12.3%\n",
            "- job_technician_marital_single_interaction:\n",
            "   Coefficient: 0.017\n",
            "   Odds Ratio: 1.02\n",
            "   Approximate % Change in Odds: 1.7%\n",
            "- loan_yes_age_squared_interaction:\n",
            "   Coefficient: -0.177\n",
            "   Odds Ratio: 0.84\n",
            "   Approximate % Change in Odds: -16.2%\n",
            "- marital_married_age_squared_interaction:\n",
            "   Coefficient: 0.448\n",
            "   Odds Ratio: 1.57\n",
            "   Approximate % Change in Odds: 56.5%\n",
            "- marital_married_housing_yes_interaction:\n",
            "   Coefficient: 0.055\n",
            "   Odds Ratio: 1.06\n",
            "   Approximate % Change in Odds: 5.6%\n"
          ]
        }
      ]
    },
    {
      "cell_type": "code",
      "source": [
        "# Accuracy test\n",
        "X_test = test_df.drop(columns=[omitted_var, 'y'])\n",
        "y_test = test_df['y']\n",
        "\n",
        "# Scale the test data using the same scaler fit on the training data\n",
        "X_test_scaled = scaler.transform(X_test)\n",
        "\n",
        "# Predict probabilities\n",
        "probabilities = logm.predict_proba(X_test_scaled)[:, 1]\n"
      ],
      "metadata": {
        "colab": {
          "base_uri": "https://localhost:8080/",
          "height": 356
        },
        "id": "DnngpsDTPlkp",
        "outputId": "6d9cc47f-fdcb-4a2f-9ffe-4fa5f620a119"
      },
      "execution_count": null,
      "outputs": [
        {
          "output_type": "error",
          "ename": "KeyError",
          "evalue": "\"['y'] not found in axis\"",
          "traceback": [
            "\u001b[0;31m---------------------------------------------------------------------------\u001b[0m",
            "\u001b[0;31mKeyError\u001b[0m                                  Traceback (most recent call last)",
            "\u001b[0;32m<ipython-input-31-14a86d0fa7a3>\u001b[0m in \u001b[0;36m<cell line: 2>\u001b[0;34m()\u001b[0m\n\u001b[1;32m      1\u001b[0m \u001b[0;31m# Accuracy test\u001b[0m\u001b[0;34m\u001b[0m\u001b[0;34m\u001b[0m\u001b[0m\n\u001b[0;32m----> 2\u001b[0;31m \u001b[0mX_test\u001b[0m \u001b[0;34m=\u001b[0m \u001b[0mtest_df\u001b[0m\u001b[0;34m.\u001b[0m\u001b[0mdrop\u001b[0m\u001b[0;34m(\u001b[0m\u001b[0mcolumns\u001b[0m\u001b[0;34m=\u001b[0m\u001b[0;34m[\u001b[0m\u001b[0momitted_var\u001b[0m\u001b[0;34m,\u001b[0m \u001b[0;34m'y'\u001b[0m\u001b[0;34m]\u001b[0m\u001b[0;34m)\u001b[0m  \u001b[0;31m# Adjust the 'outcome_variable' name as needed\u001b[0m\u001b[0;34m\u001b[0m\u001b[0;34m\u001b[0m\u001b[0m\n\u001b[0m\u001b[1;32m      3\u001b[0m \u001b[0my_test\u001b[0m \u001b[0;34m=\u001b[0m \u001b[0mtest_df\u001b[0m\u001b[0;34m[\u001b[0m\u001b[0;34m'y'\u001b[0m\u001b[0;34m]\u001b[0m  \u001b[0;31m# Ensure this is the column with your binary target\u001b[0m\u001b[0;34m\u001b[0m\u001b[0;34m\u001b[0m\u001b[0m\n\u001b[1;32m      4\u001b[0m \u001b[0;34m\u001b[0m\u001b[0m\n\u001b[1;32m      5\u001b[0m \u001b[0;31m# Scale the test data using the same scaler fit on the training data\u001b[0m\u001b[0;34m\u001b[0m\u001b[0;34m\u001b[0m\u001b[0m\n",
            "\u001b[0;32m/usr/local/lib/python3.10/dist-packages/pandas/core/frame.py\u001b[0m in \u001b[0;36mdrop\u001b[0;34m(self, labels, axis, index, columns, level, inplace, errors)\u001b[0m\n\u001b[1;32m   5256\u001b[0m                 \u001b[0mweight\u001b[0m  \u001b[0;36m1.0\u001b[0m     \u001b[0;36m0.8\u001b[0m\u001b[0;34m\u001b[0m\u001b[0;34m\u001b[0m\u001b[0m\n\u001b[1;32m   5257\u001b[0m         \"\"\"\n\u001b[0;32m-> 5258\u001b[0;31m         return super().drop(\n\u001b[0m\u001b[1;32m   5259\u001b[0m             \u001b[0mlabels\u001b[0m\u001b[0;34m=\u001b[0m\u001b[0mlabels\u001b[0m\u001b[0;34m,\u001b[0m\u001b[0;34m\u001b[0m\u001b[0;34m\u001b[0m\u001b[0m\n\u001b[1;32m   5260\u001b[0m             \u001b[0maxis\u001b[0m\u001b[0;34m=\u001b[0m\u001b[0maxis\u001b[0m\u001b[0;34m,\u001b[0m\u001b[0;34m\u001b[0m\u001b[0;34m\u001b[0m\u001b[0m\n",
            "\u001b[0;32m/usr/local/lib/python3.10/dist-packages/pandas/core/generic.py\u001b[0m in \u001b[0;36mdrop\u001b[0;34m(self, labels, axis, index, columns, level, inplace, errors)\u001b[0m\n\u001b[1;32m   4547\u001b[0m         \u001b[0;32mfor\u001b[0m \u001b[0maxis\u001b[0m\u001b[0;34m,\u001b[0m \u001b[0mlabels\u001b[0m \u001b[0;32min\u001b[0m \u001b[0maxes\u001b[0m\u001b[0;34m.\u001b[0m\u001b[0mitems\u001b[0m\u001b[0;34m(\u001b[0m\u001b[0;34m)\u001b[0m\u001b[0;34m:\u001b[0m\u001b[0;34m\u001b[0m\u001b[0;34m\u001b[0m\u001b[0m\n\u001b[1;32m   4548\u001b[0m             \u001b[0;32mif\u001b[0m \u001b[0mlabels\u001b[0m \u001b[0;32mis\u001b[0m \u001b[0;32mnot\u001b[0m \u001b[0;32mNone\u001b[0m\u001b[0;34m:\u001b[0m\u001b[0;34m\u001b[0m\u001b[0;34m\u001b[0m\u001b[0m\n\u001b[0;32m-> 4549\u001b[0;31m                 \u001b[0mobj\u001b[0m \u001b[0;34m=\u001b[0m \u001b[0mobj\u001b[0m\u001b[0;34m.\u001b[0m\u001b[0m_drop_axis\u001b[0m\u001b[0;34m(\u001b[0m\u001b[0mlabels\u001b[0m\u001b[0;34m,\u001b[0m \u001b[0maxis\u001b[0m\u001b[0;34m,\u001b[0m \u001b[0mlevel\u001b[0m\u001b[0;34m=\u001b[0m\u001b[0mlevel\u001b[0m\u001b[0;34m,\u001b[0m \u001b[0merrors\u001b[0m\u001b[0;34m=\u001b[0m\u001b[0merrors\u001b[0m\u001b[0;34m)\u001b[0m\u001b[0;34m\u001b[0m\u001b[0;34m\u001b[0m\u001b[0m\n\u001b[0m\u001b[1;32m   4550\u001b[0m \u001b[0;34m\u001b[0m\u001b[0m\n\u001b[1;32m   4551\u001b[0m         \u001b[0;32mif\u001b[0m \u001b[0minplace\u001b[0m\u001b[0;34m:\u001b[0m\u001b[0;34m\u001b[0m\u001b[0;34m\u001b[0m\u001b[0m\n",
            "\u001b[0;32m/usr/local/lib/python3.10/dist-packages/pandas/core/generic.py\u001b[0m in \u001b[0;36m_drop_axis\u001b[0;34m(self, labels, axis, level, errors, only_slice)\u001b[0m\n\u001b[1;32m   4589\u001b[0m                 \u001b[0mnew_axis\u001b[0m \u001b[0;34m=\u001b[0m \u001b[0maxis\u001b[0m\u001b[0;34m.\u001b[0m\u001b[0mdrop\u001b[0m\u001b[0;34m(\u001b[0m\u001b[0mlabels\u001b[0m\u001b[0;34m,\u001b[0m \u001b[0mlevel\u001b[0m\u001b[0;34m=\u001b[0m\u001b[0mlevel\u001b[0m\u001b[0;34m,\u001b[0m \u001b[0merrors\u001b[0m\u001b[0;34m=\u001b[0m\u001b[0merrors\u001b[0m\u001b[0;34m)\u001b[0m\u001b[0;34m\u001b[0m\u001b[0;34m\u001b[0m\u001b[0m\n\u001b[1;32m   4590\u001b[0m             \u001b[0;32melse\u001b[0m\u001b[0;34m:\u001b[0m\u001b[0;34m\u001b[0m\u001b[0;34m\u001b[0m\u001b[0m\n\u001b[0;32m-> 4591\u001b[0;31m                 \u001b[0mnew_axis\u001b[0m \u001b[0;34m=\u001b[0m \u001b[0maxis\u001b[0m\u001b[0;34m.\u001b[0m\u001b[0mdrop\u001b[0m\u001b[0;34m(\u001b[0m\u001b[0mlabels\u001b[0m\u001b[0;34m,\u001b[0m \u001b[0merrors\u001b[0m\u001b[0;34m=\u001b[0m\u001b[0merrors\u001b[0m\u001b[0;34m)\u001b[0m\u001b[0;34m\u001b[0m\u001b[0;34m\u001b[0m\u001b[0m\n\u001b[0m\u001b[1;32m   4592\u001b[0m             \u001b[0mindexer\u001b[0m \u001b[0;34m=\u001b[0m \u001b[0maxis\u001b[0m\u001b[0;34m.\u001b[0m\u001b[0mget_indexer\u001b[0m\u001b[0;34m(\u001b[0m\u001b[0mnew_axis\u001b[0m\u001b[0;34m)\u001b[0m\u001b[0;34m\u001b[0m\u001b[0;34m\u001b[0m\u001b[0m\n\u001b[1;32m   4593\u001b[0m \u001b[0;34m\u001b[0m\u001b[0m\n",
            "\u001b[0;32m/usr/local/lib/python3.10/dist-packages/pandas/core/indexes/base.py\u001b[0m in \u001b[0;36mdrop\u001b[0;34m(self, labels, errors)\u001b[0m\n\u001b[1;32m   6697\u001b[0m         \u001b[0;32mif\u001b[0m \u001b[0mmask\u001b[0m\u001b[0;34m.\u001b[0m\u001b[0many\u001b[0m\u001b[0;34m(\u001b[0m\u001b[0;34m)\u001b[0m\u001b[0;34m:\u001b[0m\u001b[0;34m\u001b[0m\u001b[0;34m\u001b[0m\u001b[0m\n\u001b[1;32m   6698\u001b[0m             \u001b[0;32mif\u001b[0m \u001b[0merrors\u001b[0m \u001b[0;34m!=\u001b[0m \u001b[0;34m\"ignore\"\u001b[0m\u001b[0;34m:\u001b[0m\u001b[0;34m\u001b[0m\u001b[0;34m\u001b[0m\u001b[0m\n\u001b[0;32m-> 6699\u001b[0;31m                 \u001b[0;32mraise\u001b[0m \u001b[0mKeyError\u001b[0m\u001b[0;34m(\u001b[0m\u001b[0;34mf\"{list(labels[mask])} not found in axis\"\u001b[0m\u001b[0;34m)\u001b[0m\u001b[0;34m\u001b[0m\u001b[0;34m\u001b[0m\u001b[0m\n\u001b[0m\u001b[1;32m   6700\u001b[0m             \u001b[0mindexer\u001b[0m \u001b[0;34m=\u001b[0m \u001b[0mindexer\u001b[0m\u001b[0;34m[\u001b[0m\u001b[0;34m~\u001b[0m\u001b[0mmask\u001b[0m\u001b[0;34m]\u001b[0m\u001b[0;34m\u001b[0m\u001b[0;34m\u001b[0m\u001b[0m\n\u001b[1;32m   6701\u001b[0m         \u001b[0;32mreturn\u001b[0m \u001b[0mself\u001b[0m\u001b[0;34m.\u001b[0m\u001b[0mdelete\u001b[0m\u001b[0;34m(\u001b[0m\u001b[0mindexer\u001b[0m\u001b[0;34m)\u001b[0m\u001b[0;34m\u001b[0m\u001b[0;34m\u001b[0m\u001b[0m\n",
            "\u001b[0;31mKeyError\u001b[0m: \"['y'] not found in axis\""
          ]
        }
      ]
    },
    {
      "cell_type": "markdown",
      "source": [
        "#Visualization"
      ],
      "metadata": {
        "id": "feh6UOt_Wghi"
      }
    },
    {
      "cell_type": "code",
      "source": [
        "# Concatenate controls with the dependent variable\n",
        "full_data = pd.concat([controls, y], axis=1)\n",
        "\n",
        "# Create Heatmap\n",
        "plt.figure(figsize=(20, 16))\n",
        "sns.heatmap(interaction_correlations, cmap='coolwarm', vmin=-.1, vmax=.1, annot=True, center=0)\n",
        "plt.title('Interaction Correlations with Term Deposit Ownership')\n",
        "plt.show()\n"
      ],
      "metadata": {
        "id": "LADkDAlXWf0Y",
        "colab": {
          "base_uri": "https://localhost:8080/",
          "height": 374
        },
        "outputId": "c4b19c3e-96b2-41b0-88e1-031959f0da24"
      },
      "execution_count": null,
      "outputs": [
        {
          "output_type": "error",
          "ename": "IndexError",
          "evalue": "Inconsistent shape between the condition and the input (got (19, 1) and (19,))",
          "traceback": [
            "\u001b[0;31m---------------------------------------------------------------------------\u001b[0m",
            "\u001b[0;31mIndexError\u001b[0m                                Traceback (most recent call last)",
            "\u001b[0;32m<ipython-input-12-951361c50534>\u001b[0m in \u001b[0;36m<cell line: 6>\u001b[0;34m()\u001b[0m\n\u001b[1;32m      4\u001b[0m \u001b[0;31m# Create Heatmap\u001b[0m\u001b[0;34m\u001b[0m\u001b[0;34m\u001b[0m\u001b[0m\n\u001b[1;32m      5\u001b[0m \u001b[0mplt\u001b[0m\u001b[0;34m.\u001b[0m\u001b[0mfigure\u001b[0m\u001b[0;34m(\u001b[0m\u001b[0mfigsize\u001b[0m\u001b[0;34m=\u001b[0m\u001b[0;34m(\u001b[0m\u001b[0;36m20\u001b[0m\u001b[0;34m,\u001b[0m \u001b[0;36m16\u001b[0m\u001b[0;34m)\u001b[0m\u001b[0;34m)\u001b[0m\u001b[0;34m\u001b[0m\u001b[0;34m\u001b[0m\u001b[0m\n\u001b[0;32m----> 6\u001b[0;31m \u001b[0msns\u001b[0m\u001b[0;34m.\u001b[0m\u001b[0mheatmap\u001b[0m\u001b[0;34m(\u001b[0m\u001b[0minteraction_correlations\u001b[0m\u001b[0;34m,\u001b[0m \u001b[0mcmap\u001b[0m\u001b[0;34m=\u001b[0m\u001b[0;34m'coolwarm'\u001b[0m\u001b[0;34m,\u001b[0m \u001b[0mvmin\u001b[0m\u001b[0;34m=\u001b[0m\u001b[0;34m-\u001b[0m\u001b[0;36m.1\u001b[0m\u001b[0;34m,\u001b[0m \u001b[0mvmax\u001b[0m\u001b[0;34m=\u001b[0m\u001b[0;36m.1\u001b[0m\u001b[0;34m,\u001b[0m \u001b[0mannot\u001b[0m\u001b[0;34m=\u001b[0m\u001b[0;32mTrue\u001b[0m\u001b[0;34m,\u001b[0m \u001b[0mcenter\u001b[0m\u001b[0;34m=\u001b[0m\u001b[0;36m0\u001b[0m\u001b[0;34m)\u001b[0m\u001b[0;34m\u001b[0m\u001b[0;34m\u001b[0m\u001b[0m\n\u001b[0m\u001b[1;32m      7\u001b[0m \u001b[0mplt\u001b[0m\u001b[0;34m.\u001b[0m\u001b[0mtitle\u001b[0m\u001b[0;34m(\u001b[0m\u001b[0;34m'Interaction Correlations with Term Deposit Ownership'\u001b[0m\u001b[0;34m)\u001b[0m\u001b[0;34m\u001b[0m\u001b[0;34m\u001b[0m\u001b[0m\n\u001b[1;32m      8\u001b[0m \u001b[0mplt\u001b[0m\u001b[0;34m.\u001b[0m\u001b[0mshow\u001b[0m\u001b[0;34m(\u001b[0m\u001b[0;34m)\u001b[0m\u001b[0;34m\u001b[0m\u001b[0;34m\u001b[0m\u001b[0m\n",
            "\u001b[0;32m/usr/local/lib/python3.10/dist-packages/seaborn/matrix.py\u001b[0m in \u001b[0;36mheatmap\u001b[0;34m(data, vmin, vmax, cmap, center, robust, annot, fmt, annot_kws, linewidths, linecolor, cbar, cbar_kws, cbar_ax, square, xticklabels, yticklabels, mask, ax, **kwargs)\u001b[0m\n\u001b[1;32m    444\u001b[0m     \"\"\"\n\u001b[1;32m    445\u001b[0m     \u001b[0;31m# Initialize the plotter object\u001b[0m\u001b[0;34m\u001b[0m\u001b[0;34m\u001b[0m\u001b[0m\n\u001b[0;32m--> 446\u001b[0;31m     plotter = _HeatMapper(data, vmin, vmax, cmap, center, robust, annot, fmt,\n\u001b[0m\u001b[1;32m    447\u001b[0m                           \u001b[0mannot_kws\u001b[0m\u001b[0;34m,\u001b[0m \u001b[0mcbar\u001b[0m\u001b[0;34m,\u001b[0m \u001b[0mcbar_kws\u001b[0m\u001b[0;34m,\u001b[0m \u001b[0mxticklabels\u001b[0m\u001b[0;34m,\u001b[0m\u001b[0;34m\u001b[0m\u001b[0;34m\u001b[0m\u001b[0m\n\u001b[1;32m    448\u001b[0m                           yticklabels, mask)\n",
            "\u001b[0;32m/usr/local/lib/python3.10/dist-packages/seaborn/matrix.py\u001b[0m in \u001b[0;36m__init__\u001b[0;34m(self, data, vmin, vmax, cmap, center, robust, annot, fmt, annot_kws, cbar, cbar_kws, xticklabels, yticklabels, mask)\u001b[0m\n\u001b[1;32m    113\u001b[0m         \u001b[0mmask\u001b[0m \u001b[0;34m=\u001b[0m \u001b[0m_matrix_mask\u001b[0m\u001b[0;34m(\u001b[0m\u001b[0mdata\u001b[0m\u001b[0;34m,\u001b[0m \u001b[0mmask\u001b[0m\u001b[0;34m)\u001b[0m\u001b[0;34m\u001b[0m\u001b[0;34m\u001b[0m\u001b[0m\n\u001b[1;32m    114\u001b[0m \u001b[0;34m\u001b[0m\u001b[0m\n\u001b[0;32m--> 115\u001b[0;31m         \u001b[0mplot_data\u001b[0m \u001b[0;34m=\u001b[0m \u001b[0mnp\u001b[0m\u001b[0;34m.\u001b[0m\u001b[0mma\u001b[0m\u001b[0;34m.\u001b[0m\u001b[0mmasked_where\u001b[0m\u001b[0;34m(\u001b[0m\u001b[0mnp\u001b[0m\u001b[0;34m.\u001b[0m\u001b[0masarray\u001b[0m\u001b[0;34m(\u001b[0m\u001b[0mmask\u001b[0m\u001b[0;34m)\u001b[0m\u001b[0;34m,\u001b[0m \u001b[0mplot_data\u001b[0m\u001b[0;34m)\u001b[0m\u001b[0;34m\u001b[0m\u001b[0;34m\u001b[0m\u001b[0m\n\u001b[0m\u001b[1;32m    116\u001b[0m \u001b[0;34m\u001b[0m\u001b[0m\n\u001b[1;32m    117\u001b[0m         \u001b[0;31m# Get good names for the rows and columns\u001b[0m\u001b[0;34m\u001b[0m\u001b[0;34m\u001b[0m\u001b[0m\n",
            "\u001b[0;32m/usr/local/lib/python3.10/dist-packages/numpy/ma/core.py\u001b[0m in \u001b[0;36mmasked_where\u001b[0;34m(condition, a, copy)\u001b[0m\n\u001b[1;32m   1931\u001b[0m     \u001b[0;34m(\u001b[0m\u001b[0mcshape\u001b[0m\u001b[0;34m,\u001b[0m \u001b[0mashape\u001b[0m\u001b[0;34m)\u001b[0m \u001b[0;34m=\u001b[0m \u001b[0;34m(\u001b[0m\u001b[0mcond\u001b[0m\u001b[0;34m.\u001b[0m\u001b[0mshape\u001b[0m\u001b[0;34m,\u001b[0m \u001b[0ma\u001b[0m\u001b[0;34m.\u001b[0m\u001b[0mshape\u001b[0m\u001b[0;34m)\u001b[0m\u001b[0;34m\u001b[0m\u001b[0;34m\u001b[0m\u001b[0m\n\u001b[1;32m   1932\u001b[0m     \u001b[0;32mif\u001b[0m \u001b[0mcshape\u001b[0m \u001b[0;32mand\u001b[0m \u001b[0mcshape\u001b[0m \u001b[0;34m!=\u001b[0m \u001b[0mashape\u001b[0m\u001b[0;34m:\u001b[0m\u001b[0;34m\u001b[0m\u001b[0;34m\u001b[0m\u001b[0m\n\u001b[0;32m-> 1933\u001b[0;31m         raise IndexError(\"Inconsistent shape between the condition and the input\"\n\u001b[0m\u001b[1;32m   1934\u001b[0m                          \" (got %s and %s)\" % (cshape, ashape))\n\u001b[1;32m   1935\u001b[0m     \u001b[0;32mif\u001b[0m \u001b[0mhasattr\u001b[0m\u001b[0;34m(\u001b[0m\u001b[0ma\u001b[0m\u001b[0;34m,\u001b[0m \u001b[0;34m'_mask'\u001b[0m\u001b[0;34m)\u001b[0m\u001b[0;34m:\u001b[0m\u001b[0;34m\u001b[0m\u001b[0;34m\u001b[0m\u001b[0m\n",
            "\u001b[0;31mIndexError\u001b[0m: Inconsistent shape between the condition and the input (got (19, 1) and (19,))"
          ]
        },
        {
          "output_type": "display_data",
          "data": {
            "text/plain": [
              "<Figure size 2000x1600 with 0 Axes>"
            ]
          },
          "metadata": {}
        }
      ]
    },
    {
      "cell_type": "markdown",
      "source": [
        "My Analysis:\n",
        "\n"
      ],
      "metadata": {
        "id": "XedRT_iVP6Pc"
      }
    },
    {
      "cell_type": "markdown",
      "source": [
        "#Debiased robustness checks with machine learning"
      ],
      "metadata": {
        "id": "J6le0uIR4KdU"
      }
    },
    {
      "cell_type": "code",
      "source": [
        "from sklearn import linear_model\n",
        "from sklearn.model_selection import KFold\n",
        "import statsmodels.api as sm"
      ],
      "metadata": {
        "id": "gYMs0SjbIw-B"
      },
      "execution_count": null,
      "outputs": []
    },
    {
      "cell_type": "code",
      "source": [
        "d = treatments\n",
        "lassoy = linear_model.LassoCV().fit(X, y)\n",
        "yresid=y-lassoy.predict(X)\n",
        "lassod = linear_model.MultiTaskLassoCV().fit(X, d)\n",
        "dresid=d-lassod.predict(X)"
      ],
      "metadata": {
        "id": "ldrggkjoIhCv"
      },
      "execution_count": null,
      "outputs": []
    },
    {
      "cell_type": "code",
      "source": [
        "dmlreg=linear_model.LinearRegression().fit(dresid,yresid)\n",
        "print(\"{:.3f}\".format(dmlreg.coef_[0]))"
      ],
      "metadata": {
        "colab": {
          "base_uri": "https://localhost:8080/"
        },
        "id": "w39n4PvkKA1S",
        "outputId": "737f36c3-a061-4b57-ab00-f4bad25de8e6"
      },
      "execution_count": null,
      "outputs": [
        {
          "output_type": "stream",
          "name": "stdout",
          "text": [
            "-0.024\n"
          ]
        }
      ]
    },
    {
      "cell_type": "code",
      "source": [
        "# create our sample splitting \"object\"\n",
        "kf = KFold(n_splits=5,shuffle=True,random_state=42)\n",
        "\n",
        "# apply the splits to our Xs\n",
        "kf.get_n_splits(X)\n",
        "\n",
        "# initialize columns for residuals\n",
        "yresid = y*0\n",
        "dresid = d*0\n",
        "\n",
        "# Now loop through each fold\n",
        "for train_index, test_index in kf.split(X):\n",
        "  X_train, X_test = X.iloc[train_index,:], X.iloc[test_index,:]\n",
        "  y_train, y_test = y.iloc[train_index], y.iloc[test_index]\n",
        "  d_train, d_test = d.iloc[train_index,:], d.iloc[test_index,:]\n",
        "\n",
        "  # Do DML thing\n",
        "  # Lasso y on training folds:\n",
        "  lassoy.fit(X_train, y_train)\n",
        "\n",
        "  # but get residuals in test set\n",
        "  yresid.iloc[test_index]=y_test-lassoy.predict(X_test)\n",
        "\n",
        "  #Lasso d on training folds\n",
        "  lassod.fit(X_train, d_train)\n",
        "\n",
        "  #but get residuals in test set\n",
        "  dresid.iloc[test_index,:]=d_test-lassod.predict(X_test)\n",
        "\n",
        "\n",
        "# Regress resids\n",
        "dmlreg=linear_model.LinearRegression().fit(dresid,yresid)\n",
        "\n",
        "print(\"{:.3f}\".format(dmlreg.coef_[0]))"
      ],
      "metadata": {
        "colab": {
          "base_uri": "https://localhost:8080/"
        },
        "id": "gL37XXNdINzy",
        "outputId": "e6625840-8402-4407-f5d8-f9a1de31848d"
      },
      "execution_count": null,
      "outputs": [
        {
          "output_type": "stream",
          "name": "stdout",
          "text": [
            "DML regression earnings race gap: -0.024\n"
          ]
        }
      ]
    },
    {
      "cell_type": "code",
      "source": [
        "\n",
        "\n",
        "# Define K-Folds for cross-validation\n",
        "kf = KFold(n_splits=5, shuffle=True, random_state=42)\n",
        "\n",
        "# Preparing storage for coefficients\n",
        "coefs = []\n",
        "\n",
        "# Start the K-Fold process\n",
        "for train_index, test_index in kf.split(df1):\n",
        "    # Split data\n",
        "    X_train, X_test = controls.iloc[train_index], controls.iloc[test_index]\n",
        "    y_train, y_test = y[train_index], y[test_index]\n",
        "    treatment_train, treatment_test = treatments.iloc[train_index], treatments.iloc[test_index]\n",
        "\n",
        "    # Standardize controls\n",
        "    scaler = StandardScaler()\n",
        "    X_train_scaled = scaler.fit_transform(X_train)\n",
        "    X_test_scaled = scaler.transform(X_test)\n",
        "\n",
        "    # Lasso regression to select features and predict nuisance parameters\n",
        "    lasso_controls = LassoCV(cv=5, alphas=[0.01, 0.1, 0.5, 1, 5, 10, 100]).fit(X_train_scaled, y_train)\n",
        "    predicted_controls_train = lasso_controls.predict(X_train_scaled)\n",
        "    predicted_controls_test = lasso_controls.predict(X_test_scaled)\n",
        "\n",
        "    # Orthogonalize treatments and outcome\n",
        "    residual_y_train = y_train - predicted_controls_train\n",
        "    residual_y_test = y_test - predicted_controls_test\n",
        "\n",
        "    # Fit treatment effects model\n",
        "    treatment_model = sm.OLS(residual_y_train, sm.add_constant(treatment_train)).fit()\n",
        "    coefs.append(treatment_model.params)\n",
        "\n",
        "    # Optionally, test model\n",
        "    treatment_preds = treatment_model.predict(sm.add_constant(treatment_test))\n",
        "    #Assess the predictions here (e.g., through metrics or plots)\n",
        "\n",
        "# Average coefficients across folds\n",
        "average_coefs = np.mean(coefs, axis=0)\n",
        "print(\"Averaged coefficients across folds:\", average_coefs)\n"
      ],
      "metadata": {
        "colab": {
          "base_uri": "https://localhost:8080/"
        },
        "id": "nPKoglQQGAp2",
        "outputId": "2e0cae16-1eab-4e60-c72a-c850d2aa626a"
      },
      "execution_count": null,
      "outputs": [
        {
          "output_type": "stream",
          "name": "stdout",
          "text": [
            "Averaged coefficients across folds: [ 9.64686228e+10 -9.64686228e+10 -9.64686228e+10 -9.64686228e+10]\n"
          ]
        }
      ]
    }
  ]
}